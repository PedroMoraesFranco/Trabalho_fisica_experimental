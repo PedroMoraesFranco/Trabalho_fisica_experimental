{
 "cells": [
  {
   "cell_type": "markdown",
   "id": "ee58c844",
   "metadata": {},
   "source": [
    "Código de realização do trabalho"
   ]
  },
  {
   "cell_type": "markdown",
   "id": "b45cedcf",
   "metadata": {},
   "source": [
    "Bibliotecas"
   ]
  },
  {
   "cell_type": "code",
   "execution_count": 159,
   "id": "defcce51",
   "metadata": {},
   "outputs": [],
   "source": [
    "import numpy as np\n",
    "import matplotlib.pyplot as plt\n",
    "\n",
    "%matplotlib inline \n",
    "plt.rcParams.update({'font.size':16}) # Definição de parametros de todos os plots"
   ]
  },
  {
   "cell_type": "markdown",
   "id": "7e89a01f",
   "metadata": {},
   "source": [
    "Coletando os dados do arquivo"
   ]
  },
  {
   "cell_type": "code",
   "execution_count": 160,
   "id": "e6aecb45",
   "metadata": {},
   "outputs": [],
   "source": [
    "dados = np.loadtxt('dados.txt', skiprows=1) # Coleta de dados usando o arquivo gerado pelo tracker\n",
    "t = dados[:,0]\n",
    "x = dados[:,1]\n",
    "y = dados[:,2]"
   ]
  },
  {
   "cell_type": "markdown",
   "id": "cf774ce6",
   "metadata": {},
   "source": [
    "Definindo funções"
   ]
  },
  {
   "cell_type": "code",
   "execution_count": 161,
   "id": "d93c1d3f",
   "metadata": {},
   "outputs": [],
   "source": [
    "def funcx(t,vx,x0):\n",
    "    f = vx*t+x0\n",
    "    return f\n",
    "\n",
    "def funcy(t,c1,c2,c3):\n",
    "    f = c1*t**2+c2*t+c3\n",
    "    return f\n",
    "\n",
    "def trajetoria(t,p1,p2,p3):\n",
    "    f = p1*t**2+p2*t+p3\n",
    "    return f\n",
    "\n",
    "def reta(t,a,vy0):\n",
    "    f = a*t +vy0 \n",
    "    return f"
   ]
  },
  {
   "cell_type": "markdown",
   "id": "bb7367dc",
   "metadata": {},
   "source": [
    "Definição das variáveis"
   ]
  },
  {
   "cell_type": "code",
   "execution_count": 162,
   "id": "05cfee4c",
   "metadata": {},
   "outputs": [],
   "source": [
    "tamanho = dados.shape[0] # Definindo o tamanho \n",
    "t_step=t[0] # Definindo t_step com base na lista t do arquivo\n",
    "vx,x0=np.polyfit(t,x,1) # Definindo V em x e x inicial\n",
    "c1,c2,c3=np.polyfit(t,y,2) # Definindo as constantes C1, C2 e C3\n",
    "p1,p2,p3=np.polyfit(x,y,2) # Definindo as constantes p1, p2 e p3\n",
    "vx = np.zeros(tamanho)\n",
    "vy = np.zeros(tamanho)\n",
    "vx[0]=(x[1]-x[0])/t_step\n",
    "vy[0]=(y[1]-y[0])/t_step\n",
    "vx[-1]=(x[tamanho-1]-x[tamanho-2])/t_step\n",
    "vy[-1]=(y[tamanho-1]-y[tamanho-2])/t_step\n",
    "for i in range(1,tamanho-1):\n",
    "    vx[i]=(x[i+1]-x[i-1])/(2*t_step)\n",
    "    vy[i]=(y[i+1]-y[i-1])/(2*t_step)\n",
    "a,vy0=np.polyfit(t,vy,1) # Definindo aceleração e V em y inicial\n"
   ]
  },
  {
   "cell_type": "markdown",
   "id": "17af876c",
   "metadata": {},
   "source": [
    "Gráfico x(t)"
   ]
  },
  {
   "cell_type": "code",
   "execution_count": 163,
   "id": "dce20315",
   "metadata": {},
   "outputs": [
    {
     "data": {
      "image/png": "[encoded data removed]",
      "text/plain": [
       "<Figure size 432x288 with 1 Axes>"
      ]
     },
     "metadata": {
      "needs_background": "light"
     },
     "output_type": "display_data"
    }
   ],
   "source": [
    "plt.scatter(t,x,color='black') \n",
    "plt.plot(t,funcx(t,vx,x0),color='red',linestyle='solid')\n",
    "plt.ylabel('x(m)')\n",
    "plt.xlabel(r't(s)')\n",
    "plt.savefig('x(t).png')"
   ]
  },
  {
   "cell_type": "markdown",
   "id": "6160fa18",
   "metadata": {},
   "source": [
    "Velocidade em x média"
   ]
  },
  {
   "cell_type": "code",
   "execution_count": 164,
   "id": "7d527842",
   "metadata": {},
   "outputs": [
    {
     "data": {
      "text/plain": [
       "3.5334324018185814"
      ]
     },
     "execution_count": 164,
     "metadata": {},
     "output_type": "execute_result"
    }
   ],
   "source": [
    "vx.mean() # V em x médio"
   ]
  },
  {
   "cell_type": "markdown",
   "id": "b13c364e",
   "metadata": {},
   "source": [
    "Gráfico y(t)"
   ]
  },
  {
   "cell_type": "code",
   "execution_count": 166,
   "id": "ad0c113f",
   "metadata": {},
   "outputs": [
    {
     "data": {
      "image/png": "[encoded data removed]",
      "text/plain": [
       "<Figure size 432x288 with 1 Axes>"
      ]
     },
     "metadata": {
      "needs_background": "light"
     },
     "output_type": "display_data"
    }
   ],
   "source": [
    "plt.scatter(t,y,color='black')\n",
    "plt.plot(t,funcy(t,c1,c2,c3),color='red',linestyle='solid')\n",
    "plt.ylabel('y(m)')\n",
    "plt.xlabel(r't(s)')\n",
    "plt.savefig('y(t).png')"
   ]
  },
  {
   "cell_type": "markdown",
   "id": "c33a9dc3",
   "metadata": {},
   "source": [
    "Valor da gravidade estimado 1"
   ]
  },
  {
   "cell_type": "code",
   "execution_count": 167,
   "id": "148dfc90",
   "metadata": {},
   "outputs": [
    {
     "name": "stdout",
     "output_type": "stream",
     "text": [
      "8.711169512170969\n"
     ]
    }
   ],
   "source": [
    "g=-c1*2 # Calculando a gravidade\n",
    "print(g)"
   ]
  },
  {
   "cell_type": "markdown",
   "id": "f454ab38",
   "metadata": {},
   "source": [
    "Erro relativo ao valor da gravidade estimado 1"
   ]
  },
  {
   "cell_type": "code",
   "execution_count": 168,
   "id": "712fd117",
   "metadata": {},
   "outputs": [
    {
     "data": {
      "text/plain": [
       "0.11"
      ]
     },
     "execution_count": 168,
     "metadata": {},
     "output_type": "execute_result"
    }
   ],
   "source": [
    "erro1=(9.81-g)/9.81\n",
    "erro1.round(2) # Calculando o erro relativo da gravidade encontrada"
   ]
  },
  {
   "cell_type": "markdown",
   "id": "7863e505",
   "metadata": {},
   "source": [
    "Gráfico y por x"
   ]
  },
  {
   "cell_type": "code",
   "execution_count": 170,
   "id": "4832139b",
   "metadata": {},
   "outputs": [
    {
     "data": {
      "image/png": "[encoded data removed]",
      "text/plain": [
       "<Figure size 432x288 with 1 Axes>"
      ]
     },
     "metadata": {
      "needs_background": "light"
     },
     "output_type": "display_data"
    }
   ],
   "source": [
    "plt.scatter(x,y,color='black')\n",
    "plt.plot(x,trajetoria(x,p1,p2,p3),color='red',linestyle='solid')\n",
    "plt.ylabel('y(m)')\n",
    "plt.xlabel(r'x(m)')\n",
    "plt.savefig('y(x).png')"
   ]
  },
  {
   "cell_type": "markdown",
   "id": "ad577176",
   "metadata": {},
   "source": [
    "Valor da velocidade em x média 2"
   ]
  },
  {
   "cell_type": "code",
   "execution_count": 175,
   "id": "1d4efea1",
   "metadata": {},
   "outputs": [
    {
     "data": {
      "text/plain": [
       "3.376364587821365"
      ]
     },
     "execution_count": 175,
     "metadata": {},
     "output_type": "execute_result"
    }
   ],
   "source": [
    "vx.mean()"
   ]
  },
  {
   "cell_type": "markdown",
   "id": "b55bcbeb",
   "metadata": {},
   "source": [
    "Gráfico Vx(t)"
   ]
  },
  {
   "cell_type": "code",
   "execution_count": 176,
   "id": "8e04274f",
   "metadata": {},
   "outputs": [
    {
     "data": {
      "image/png": "[encoded data removed]",
      "text/plain": [
       "<Figure size 432x288 with 1 Axes>"
      ]
     },
     "metadata": {
      "needs_background": "light"
     },
     "output_type": "display_data"
    }
   ],
   "source": [
    "plt.scatter(t,vx, color='black')\n",
    "plt.ylabel(r'$V_x$ (m/s)')\n",
    "plt.xlabel(r't(s)')\n",
    "plt.ylim(-10,10)\n",
    "plt.plot([t.min(),t.max()],[vx.mean(),vx.mean()],color='red', linestyle='solid')\n",
    "plt.savefig('Vx(t).png')"
   ]
  },
  {
   "cell_type": "markdown",
   "id": "7cc54b0a",
   "metadata": {},
   "source": [
    "Gráfico Vy(t)"
   ]
  },
  {
   "cell_type": "code",
   "execution_count": 178,
   "id": "cf6edba4",
   "metadata": {},
   "outputs": [
    {
     "data": {
      "image/png": "[encoded data removed]",
      "text/plain": [
       "<Figure size 432x288 with 1 Axes>"
      ]
     },
     "metadata": {
      "needs_background": "light"
     },
     "output_type": "display_data"
    }
   ],
   "source": [
    "plt.scatter(t,vy,color='black')\n",
    "plt.plot(t,reta(t,a,vy0), color='red', linestyle='solid')\n",
    "plt.ylabel(r'$v_y$ (m/s)')\n",
    "plt.xlabel(r't(s)')\n",
    "plt.savefig('Vy(t).png')"
   ]
  },
  {
   "cell_type": "markdown",
   "id": "2cb51c83",
   "metadata": {},
   "source": [
    "Valor da gravidade estimado 2"
   ]
  },
  {
   "cell_type": "code",
   "execution_count": 179,
   "id": "e348d40d",
   "metadata": {},
   "outputs": [
    {
     "name": "stdout",
     "output_type": "stream",
     "text": [
      "8.308909400370085\n"
     ]
    }
   ],
   "source": [
    "g2=-a # Gravidade obtida pela aceleração estimada\n",
    "print(g2)"
   ]
  },
  {
   "cell_type": "markdown",
   "id": "8153628d",
   "metadata": {},
   "source": [
    "Erro relativo ao valor da gravidade estimado 2"
   ]
  },
  {
   "cell_type": "code",
   "execution_count": 180,
   "id": "d053880a",
   "metadata": {},
   "outputs": [
    {
     "data": {
      "text/plain": [
       "0.15"
      ]
     },
     "execution_count": 180,
     "metadata": {},
     "output_type": "execute_result"
    }
   ],
   "source": [
    "erro2 = (9.81-g2)/9.81 # Erro relativo a gravidade encontrada acima\n",
    "erro2.round(2)"
   ]
  }
 ],
 "metadata": {
  "kernelspec": {
   "display_name": "Python 3 (ipykernel)",
   "language": "python",
   "name": "python3"
  },
  "language_info": {
   "codemirror_mode": {
    "name": "ipython",
    "version": 3
   },
   "file_extension": ".py",
   "mimetype": "text/x-python",
   "name": "python",
   "nbconvert_exporter": "python",
   "pygments_lexer": "ipython3",
   "version": "3.8.5"
  }
 },
 "nbformat": 4,
 "nbformat_minor": 5
}
