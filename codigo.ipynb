{
 "cells": [
  {
   "cell_type": "code",
   "execution_count": 2,
   "id": "9cb280fc",
   "metadata": {},
   "outputs": [],
   "source": [
    "#Codigo do Trabalho de física experimental"
   ]
  },
  {
   "cell_type": "code",
   "execution_count": null,
   "id": "4e1e5fb3",
   "metadata": {},
   "outputs": [],
   "source": [
    "#Bibliotecas"
   ]
  },
  {
   "cell_type": "code",
   "execution_count": 3,
   "id": "defcce51",
   "metadata": {},
   "outputs": [],
   "source": [
    "import pandas as pd\n",
    "import numpy as np\n",
    "import matplotlib.pyplot as plt"
   ]
  },
  {
   "cell_type": "code",
   "execution_count": 1,
   "id": "e6aecb45",
   "metadata": {},
   "outputs": [],
   "source": [
    "###"
   ]
  },
  {
   "cell_type": "code",
   "execution_count": 2,
   "id": "05cfee4c",
   "metadata": {},
   "outputs": [
    {
     "ename": "NameError",
     "evalue": "name 'plt' is not defined",
     "output_type": "error",
     "traceback": [
      "\u001b[1;31m---------------------------------------------------------------------------\u001b[0m",
      "\u001b[1;31mNameError\u001b[0m                                 Traceback (most recent call last)",
      "\u001b[1;32m~\\AppData\\Local\\Temp/ipykernel_11908/55236868.py\u001b[0m in \u001b[0;36m<module>\u001b[1;34m\u001b[0m\n\u001b[1;32m----> 1\u001b[1;33m \u001b[0mplt\u001b[0m\u001b[1;33m.\u001b[0m\u001b[0mrcParams\u001b[0m\u001b[1;33m.\u001b[0m\u001b[0mupdate\u001b[0m\u001b[1;33m(\u001b[0m\u001b[1;33m{\u001b[0m\u001b[1;34m'font.size'\u001b[0m\u001b[1;33m:\u001b[0m\u001b[1;36m16\u001b[0m\u001b[1;33m}\u001b[0m\u001b[1;33m)\u001b[0m \u001b[1;31m# Definição de parametros de todos os plots\u001b[0m\u001b[1;33m\u001b[0m\u001b[1;33m\u001b[0m\u001b[0m\n\u001b[0m\u001b[0;32m      2\u001b[0m \u001b[1;33m\u001b[0m\u001b[0m\n\u001b[0;32m      3\u001b[0m \u001b[0mdados\u001b[0m \u001b[1;33m=\u001b[0m \u001b[0mpd\u001b[0m\u001b[1;33m.\u001b[0m\u001b[0mread_csv\u001b[0m\u001b[1;33m(\u001b[0m\u001b[1;34m'dados2'\u001b[0m\u001b[1;33m,\u001b[0m\u001b[0msep\u001b[0m\u001b[1;33m=\u001b[0m\u001b[1;34m';'\u001b[0m\u001b[1;33m,\u001b[0m\u001b[0mheader\u001b[0m\u001b[1;33m=\u001b[0m\u001b[1;36m1\u001b[0m\u001b[1;33m,\u001b[0m\u001b[0mdecimal\u001b[0m\u001b[1;33m=\u001b[0m\u001b[1;34m','\u001b[0m\u001b[1;33m,\u001b[0m\u001b[0mdtype\u001b[0m\u001b[1;33m=\u001b[0m\u001b[0mfloat\u001b[0m\u001b[1;33m)\u001b[0m \u001b[1;31m# Coleta de dados usando o arquivo gerado pelo tracker\u001b[0m\u001b[1;33m\u001b[0m\u001b[1;33m\u001b[0m\u001b[0m\n\u001b[0;32m      4\u001b[0m \u001b[0mtamanho\u001b[0m \u001b[1;33m=\u001b[0m \u001b[0mdados\u001b[0m\u001b[1;33m.\u001b[0m\u001b[0mshape\u001b[0m\u001b[1;33m[\u001b[0m\u001b[1;36m0\u001b[0m\u001b[1;33m]\u001b[0m \u001b[1;31m# Definindo o tamanho\u001b[0m\u001b[1;33m\u001b[0m\u001b[1;33m\u001b[0m\u001b[0m\n\u001b[0;32m      5\u001b[0m \u001b[0mt_step\u001b[0m\u001b[1;33m=\u001b[0m\u001b[0mdados\u001b[0m\u001b[1;33m[\u001b[0m\u001b[1;34m't'\u001b[0m\u001b[1;33m]\u001b[0m\u001b[1;33m[\u001b[0m\u001b[1;36m1\u001b[0m\u001b[1;33m]\u001b[0m \u001b[1;31m# Definindo t_step com base na lista t do arquivo\u001b[0m\u001b[1;33m\u001b[0m\u001b[1;33m\u001b[0m\u001b[0m\n",
      "\u001b[1;31mNameError\u001b[0m: name 'plt' is not defined"
     ]
    }
   ],
   "source": [
    "plt.rcParams.update({'font.size':16}) # Definição de parametros de todos os plots\n",
    "\n",
    "dados = pd.read_csv('dados2',sep=';',header=1,decimal=',',dtype=float) # Coleta de dados usando o arquivo gerado pelo tracker\n",
    "tamanho = dados.shape[0] # Definindo o tamanho \n",
    "t_step=dados['t'][1] # Definindo t_step com base na lista t do arquivo\n",
    "dados.head(27)\n",
    "vx,x0=np.polyfit(dados['t'],dados['x'],1) # Definindo V em x e x inicial\n",
    "funcx = lambda t: vx*t+x0 # Definindo a função x(t)"
   ]
  },
  {
   "cell_type": "code",
   "execution_count": 4,
   "id": "06dcd49d",
   "metadata": {},
   "outputs": [],
   "source": [
    "###"
   ]
  },
  {
   "cell_type": "code",
   "execution_count": null,
   "id": "dce20315",
   "metadata": {},
   "outputs": [],
   "source": [
    "plt.scatter(dados['t'],dados['x'],color='black') \n",
    "plt.plot(dados['t'],dados['t'].apply(funcx),color='red',linestyle='solid')\n",
    "plt.ylabel('x(m)')\n",
    "plt.xlabel(r't(s)')"
   ]
  },
  {
   "cell_type": "code",
   "execution_count": null,
   "id": "ed20f074",
   "metadata": {},
   "outputs": [],
   "source": [
    "##"
   ]
  },
  {
   "cell_type": "code",
   "execution_count": null,
   "id": "7d527842",
   "metadata": {},
   "outputs": [],
   "source": [
    "vx.mean() # V em x médio"
   ]
  },
  {
   "cell_type": "code",
   "execution_count": null,
   "id": "e834f680",
   "metadata": {},
   "outputs": [],
   "source": [
    "####"
   ]
  },
  {
   "cell_type": "code",
   "execution_count": null,
   "id": "f9b0547f",
   "metadata": {},
   "outputs": [],
   "source": [
    "c1,c2,c3=np.polyfit(dados['t'],dados['y'],2) # Definindo as constantes C1, C2 e C3\n",
    "funcy = lambda t: c1*t**2+c2*t+c3 # Definindo a função y(t)"
   ]
  },
  {
   "cell_type": "code",
   "execution_count": null,
   "id": "c908da4b",
   "metadata": {},
   "outputs": [],
   "source": [
    "###"
   ]
  },
  {
   "cell_type": "code",
   "execution_count": null,
   "id": "ad0c113f",
   "metadata": {},
   "outputs": [],
   "source": [
    "plt.scatter(dados['t'],dados['y'],color='black')\n",
    "plt.plot(dados['t'],dados['t'].apply(funcy),color='red',linestyle='solid')\n",
    "plt.ylabel('y(m)')\n",
    "plt.xlabel(r't(s)')"
   ]
  },
  {
   "cell_type": "code",
   "execution_count": null,
   "id": "892ba6c6",
   "metadata": {},
   "outputs": [],
   "source": [
    "###"
   ]
  },
  {
   "cell_type": "code",
   "execution_count": null,
   "id": "148dfc90",
   "metadata": {},
   "outputs": [],
   "source": [
    "g=-c1*2 # Calculando a gravidade"
   ]
  },
  {
   "cell_type": "code",
   "execution_count": null,
   "id": "b86eefb9",
   "metadata": {},
   "outputs": [],
   "source": [
    "###"
   ]
  },
  {
   "cell_type": "code",
   "execution_count": null,
   "id": "712fd117",
   "metadata": {},
   "outputs": [],
   "source": [
    "erro1=(9.81-g)/9.81\n",
    "erro1.round(2) # Calculando o erro relativo da gravidade encontrada"
   ]
  },
  {
   "cell_type": "code",
   "execution_count": null,
   "id": "d562dc90",
   "metadata": {},
   "outputs": [],
   "source": [
    "###"
   ]
  },
  {
   "cell_type": "code",
   "execution_count": null,
   "id": "506936ee",
   "metadata": {},
   "outputs": [],
   "source": [
    "p1,p2,p3=np.polyfit(dados['x'],dados['y'],2) # Definindo as constantes p1, p2 e p3\n",
    "trajetoria = lambda t: p1*t**2+p2*t+p3 # Definindo a função y(x)"
   ]
  },
  {
   "cell_type": "code",
   "execution_count": null,
   "id": "e9681f59",
   "metadata": {},
   "outputs": [],
   "source": [
    "###"
   ]
  },
  {
   "cell_type": "code",
   "execution_count": null,
   "id": "4832139b",
   "metadata": {},
   "outputs": [],
   "source": [
    "plt.scatter(dados['x'],dados['y'],color='black')\n",
    "plt.plot(dados['x'],dados['x'].apply(trajetoria),color='red',linestyle='solid')\n",
    "plt.ylabel('y(m)')\n",
    "plt.xlabel(r'x(m)')"
   ]
  },
  {
   "cell_type": "code",
   "execution_count": null,
   "id": "2b790d64",
   "metadata": {},
   "outputs": [],
   "source": [
    "###"
   ]
  },
  {
   "cell_type": "code",
   "execution_count": null,
   "id": "9d493408",
   "metadata": {},
   "outputs": [],
   "source": [
    "vx = np.zeros(tamanho)\n",
    "vy = np.zeros(tamanho)"
   ]
  },
  {
   "cell_type": "code",
   "execution_count": null,
   "id": "d0a694c2",
   "metadata": {},
   "outputs": [],
   "source": [
    "vx[0]=(dados['x'][1]-dados['x'][0])/t_step\n",
    "vy[0]=(dados['y'][1]-dados['y'][0])/t_step"
   ]
  },
  {
   "cell_type": "code",
   "execution_count": null,
   "id": "949fa502",
   "metadata": {},
   "outputs": [],
   "source": [
    "vx[-1]=(dados['x'][tamanho-1]-dados['x'][tamanho-2])/t_step\n",
    "vy[-1]=(dados['y'][tamanho-1]-dados['y'][tamanho-2])/t_step"
   ]
  },
  {
   "cell_type": "code",
   "execution_count": null,
   "id": "3b9c6919",
   "metadata": {},
   "outputs": [],
   "source": [
    "for i in range(1,tamanho-1):\n",
    "    vx[i]=(dados['x'][i+1]-dados['x'][i-1])/t_step\n",
    "    vy[i]=(dados['y'][i+1]-dados['y'][i-1])/t_step"
   ]
  },
  {
   "cell_type": "code",
   "execution_count": null,
   "id": "06ce01f5",
   "metadata": {},
   "outputs": [],
   "source": [
    "###"
   ]
  },
  {
   "cell_type": "code",
   "execution_count": null,
   "id": "1d4efea1",
   "metadata": {},
   "outputs": [],
   "source": [
    "vx.mean()"
   ]
  },
  {
   "cell_type": "code",
   "execution_count": null,
   "id": "d0f17e5f",
   "metadata": {},
   "outputs": [],
   "source": [
    "###"
   ]
  },
  {
   "cell_type": "code",
   "execution_count": null,
   "id": "8e04274f",
   "metadata": {},
   "outputs": [],
   "source": [
    "plt.scatter(dados['t'],vx, color='black')\n",
    "plt.ylabel(r'$V_x$ (m/s)')\n",
    "plt.xlabel(r't(s)')\n",
    "plt.ylim(-8,0)\n",
    "plt.plot([dados['t'].min(),dados['t'].max()],[vx.mean(),vx.mean()],color='red', linestyle='solid')"
   ]
  },
  {
   "cell_type": "code",
   "execution_count": null,
   "id": "a2f0797e",
   "metadata": {},
   "outputs": [],
   "source": [
    "###"
   ]
  },
  {
   "cell_type": "code",
   "execution_count": null,
   "id": "84c5c9aa",
   "metadata": {},
   "outputs": [],
   "source": [
    "a,vy0=np.polyfit(dados['t'],vy,1) # Definindo aceleração e V em y inicial\n",
    "reta= lambda x: a*x +vy0 # Definindo a função V em y(t)"
   ]
  },
  {
   "cell_type": "code",
   "execution_count": null,
   "id": "468c1771",
   "metadata": {},
   "outputs": [],
   "source": [
    "###"
   ]
  },
  {
   "cell_type": "code",
   "execution_count": null,
   "id": "cf6edba4",
   "metadata": {},
   "outputs": [],
   "source": [
    "plt.scatter(dados['t'],vy,color='black')\n",
    "plt.plot(dados['t'],dados['t'].apply(reta), color='red', linestyle='solid')\n",
    "plt.ylabel(r'$v_y$ (m/s)')\n",
    "plt.xlabel(r't(s)')"
   ]
  },
  {
   "cell_type": "code",
   "execution_count": null,
   "id": "883a0251",
   "metadata": {},
   "outputs": [],
   "source": [
    "###"
   ]
  },
  {
   "cell_type": "code",
   "execution_count": null,
   "id": "e348d40d",
   "metadata": {},
   "outputs": [],
   "source": [
    "g2=-a # Gravidade obtida pela aceleração estimada"
   ]
  },
  {
   "cell_type": "code",
   "execution_count": null,
   "id": "7211ea84",
   "metadata": {},
   "outputs": [],
   "source": [
    "###"
   ]
  },
  {
   "cell_type": "code",
   "execution_count": null,
   "id": "d053880a",
   "metadata": {},
   "outputs": [],
   "source": [
    "erro2 = (9.81-g2)/9.81 # Erro relativo a gravidade encontrada acima\n",
    "erro2.round(2)"
   ]
  }
 ],
 "metadata": {
  "kernelspec": {
   "display_name": "Python 3 (ipykernel)",
   "language": "python",
   "name": "python3"
  },
  "language_info": {
   "codemirror_mode": {
    "name": "ipython",
    "version": 3
   },
   "file_extension": ".py",
   "mimetype": "text/x-python",
   "name": "python",
   "nbconvert_exporter": "python",
   "pygments_lexer": "ipython3",
   "version": "3.9.7"
  }
 },
 "nbformat": 4,
 "nbformat_minor": 5
}
